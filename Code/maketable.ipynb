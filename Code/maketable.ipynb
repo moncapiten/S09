{
 "cells": [
  {
   "cell_type": "code",
   "execution_count": null,
   "metadata": {},
   "outputs": [
    {
     "name": "stdout",
     "output_type": "stream",
     "text": [
      "<class 'str'>\n"
     ]
    }
   ],
   "source": [
    "import numpy as np\n",
    "\n",
    "filename = '../Data/48'\n",
    "\n",
    "data = np.loadtxt(filename+'.txt', unpack=True)\n",
    "\n",
    "a = list(zip(data[0, :], data[1, :]))\n",
    "\n",
    "tableString = '|||'\n",
    "\n",
    "tableString += \"\\n|\"\n",
    "for i in range(len(a[0])):\n",
    "    tableString += \":-:|\"\n",
    "\n",
    "\n",
    "for i in range(len(a)):\n",
    "    tableString += \"\\n|\"\n",
    "    for j in range(len(a[i])):\n",
    "        tableString += str(int(a[i][j])) + \"|\"\n",
    "    \n",
    "#print(tableString)\n",
    "print(type(tableString))\n",
    "f = open(filename+\"_table.txt\", \"a\")\n",
    "f.write(tableString)\n",
    "f.close()\n"
   ]
  }
 ],
 "metadata": {
  "kernelspec": {
   "display_name": "Python 3",
   "language": "python",
   "name": "python3"
  },
  "language_info": {
   "codemirror_mode": {
    "name": "ipython",
    "version": 3
   },
   "file_extension": ".py",
   "mimetype": "text/x-python",
   "name": "python",
   "nbconvert_exporter": "python",
   "pygments_lexer": "ipython3",
   "version": "3.12.6"
  }
 },
 "nbformat": 4,
 "nbformat_minor": 2
}
