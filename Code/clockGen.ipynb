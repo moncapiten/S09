{
 "cells": [
  {
   "cell_type": "code",
   "execution_count": 23,
   "metadata": {},
   "outputs": [
    {
     "name": "stdout",
     "output_type": "stream",
     "text": [
      "Dispositivo #1 [SN:210321ABE62D, hdwf=1] connesso!\n",
      "Configurazione #2\n"
     ]
    }
   ],
   "source": [
    "import tdwf\n",
    "\n",
    "# -[Configurazione Analog Discovery 2]-----------------------------------------\n",
    "#   1. Connessiene con AD2\n",
    "ad2 = tdwf.AD2(iconfig=2)\n",
    "\n",
    "\n",
    "#ad2 = tdwf.AD2()    \n",
    "\n",
    "# Set the power supply to +5V/-5V\n",
    "\n",
    "ad2.vdd = +5\n",
    "ad2.power(True)\n",
    "\n",
    "\n",
    "\n",
    "\n",
    "\n",
    "#   2. Configurazione generatore di funzioni\n",
    "wgen = tdwf.WaveGen(ad2.hdwf)\n",
    "wgen.w1.config(ampl = 2.5, offs=2.5, func=tdwf.funcSquare, freq = 4, duty = 50)\n",
    "#wgen.w2.config(ampl = 2.5, offs=2.5, func=tdwf.funcSquare, freq = 1e2, duty = 50)\n",
    "wgen.w1.start()\n",
    "\n",
    "\n",
    "\n",
    "\n",
    "\n",
    "\n",
    "\n",
    "\n",
    "\n"
   ]
  },
  {
   "cell_type": "code",
   "execution_count": 22,
   "metadata": {},
   "outputs": [
    {
     "name": "stdout",
     "output_type": "stream",
     "text": [
      "Dispositivo disconnesso.\n"
     ]
    }
   ],
   "source": [
    "ad2.close()"
   ]
  }
 ],
 "metadata": {
  "kernelspec": {
   "display_name": "Python 3",
   "language": "python",
   "name": "python3"
  },
  "language_info": {
   "codemirror_mode": {
    "name": "ipython",
    "version": 3
   },
   "file_extension": ".py",
   "mimetype": "text/x-python",
   "name": "python",
   "nbconvert_exporter": "python",
   "pygments_lexer": "ipython3",
   "version": "3.12.6"
  }
 },
 "nbformat": 4,
 "nbformat_minor": 2
}
